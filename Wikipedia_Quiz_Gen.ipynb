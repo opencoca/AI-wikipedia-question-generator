{
  "nbformat": 4,
  "nbformat_minor": 0,
  "metadata": {
    "colab": {
      "name": "Wikipedia Quiz Gen.ipynb",
      "provenance": [],
      "toc_visible": true,
      "authorship_tag": "ABX9TyMan3oBUN5IhQvcMWUHBAYp",
      "include_colab_link": true
    },
    "kernelspec": {
      "name": "python3",
      "display_name": "Python 3"
    }
  },
  "cells": [
    {
      "cell_type": "markdown",
      "metadata": {
        "id": "view-in-github",
        "colab_type": "text"
      },
      "source": [
        "<a href=\"https://colab.research.google.com/github/opencoca/wikipedia-question-generator/blob/master/Wikipedia_Quiz_Gen.ipynb\" target=\"_parent\"><img src=\"https://colab.research.google.com/assets/colab-badge.svg\" alt=\"Open In Colab\"/></a>"
      ]
    },
    {
      "cell_type": "code",
      "metadata": {
        "id": "ZHSVFf-S6TX_",
        "colab": {
          "base_uri": "https://localhost:8080/"
        },
        "cellView": "form",
        "outputId": "f6bdfde0-38dd-4031-f55b-24d461eafad1"
      },
      "source": [
        "#@title Run this cell to install Wikipedia Question Generator and requirments\n",
        "!git clone https://github.com/opencoca/wikipedia-question-generator.git >/dev/null\n",
        "%cd wikipedia-question-generator/\n",
        "!pip install -r requirements.txt  >/dev/null\n",
        "!python -m textblob.download_corpora >/dev/null\n",
        "!pip install -e . >/dev/null"
      ],
      "execution_count": 1,
      "outputs": [
        {
          "output_type": "stream",
          "text": [
            "Cloning into 'wikipedia-question-generator'...\n",
            "remote: Enumerating objects: 13, done.\u001b[K\n",
            "remote: Counting objects: 100% (13/13), done.\u001b[K\n",
            "remote: Compressing objects: 100% (12/12), done.\u001b[K\n",
            "remote: Total 189 (delta 4), reused 0 (delta 0), pack-reused 176\u001b[K\n",
            "Receiving objects: 100% (189/189), 38.62 KiB | 7.72 MiB/s, done.\n",
            "Resolving deltas: 100% (89/89), done.\n",
            "/content/wikipedia-question-generator\n",
            "\u001b[31mERROR: pip-tools 4.5.1 has requirement click>=7, but you'll have click 3.3 which is incompatible.\u001b[0m\n",
            "\u001b[31mERROR: flask 1.1.2 has requirement click>=5.1, but you'll have click 3.3 which is incompatible.\u001b[0m\n",
            "\u001b[31mERROR: distributed 1.25.3 has requirement click>=6.6, but you'll have click 3.3 which is incompatible.\u001b[0m\n",
            "[nltk_data] Downloading package brown to /root/nltk_data...\n",
            "[nltk_data]   Unzipping corpora/brown.zip.\n",
            "[nltk_data] Downloading package punkt to /root/nltk_data...\n",
            "[nltk_data]   Unzipping tokenizers/punkt.zip.\n",
            "[nltk_data] Downloading package wordnet to /root/nltk_data...\n",
            "[nltk_data]   Unzipping corpora/wordnet.zip.\n",
            "[nltk_data] Downloading package averaged_perceptron_tagger to\n",
            "[nltk_data]     /root/nltk_data...\n",
            "[nltk_data]   Unzipping taggers/averaged_perceptron_tagger.zip.\n",
            "[nltk_data] Downloading package conll2000 to /root/nltk_data...\n",
            "[nltk_data]   Unzipping corpora/conll2000.zip.\n",
            "[nltk_data] Downloading package movie_reviews to /root/nltk_data...\n",
            "[nltk_data]   Unzipping corpora/movie_reviews.zip.\n"
          ],
          "name": "stdout"
        }
      ]
    },
    {
      "cell_type": "code",
      "metadata": {
        "colab": {
          "base_uri": "https://localhost:8080/"
        },
        "id": "vRLXz_v6Dl5B",
        "cellView": "form",
        "outputId": "db12cd49-0dfb-48a3-cf86-24ee13c23551"
      },
      "source": [
        "#@title Generate Questions from Wikipedia URL\n",
        "ARTICLE_TITLE = 'cat' #@param {type:\"string\"}\n",
        "!wikitrivia {ARTICLE_TITLE} --output ../{ARTICLE_TITLE}.json"
      ],
      "execution_count": 4,
      "outputs": [
        {
          "output_type": "stream",
          "text": [
            "Analyzing 'cat'\n",
            "Output stored in ../cat.json\n"
          ],
          "name": "stdout"
        }
      ]
    },
    {
      "cell_type": "markdown",
      "metadata": {
        "id": "WreJmuRTLZlW"
      },
      "source": [
        "Questions and answers are stored in /content/ which is the default dir of your colab instances. To see outputed JSON files click on the file browser to the left.\n",
        "\n",
        "At this time questions, answeres, and related information are stored as human readable JSON blobs."
      ]
    },
    {
      "cell_type": "code",
      "metadata": {
        "id": "UQ_VowAeNdsP"
      },
      "source": [
        ""
      ],
      "execution_count": null,
      "outputs": []
    }
  ]
}